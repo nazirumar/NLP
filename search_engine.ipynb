{
  "nbformat": 4,
  "nbformat_minor": 0,
  "metadata": {
    "colab": {
      "provenance": [],
      "authorship_tag": "ABX9TyPLV8o1zdufoL4j2Yir4SXZ",
      "include_colab_link": true
    },
    "kernelspec": {
      "name": "python3",
      "display_name": "Python 3"
    },
    "language_info": {
      "name": "python"
    }
  },
  "cells": [
    {
      "cell_type": "markdown",
      "metadata": {
        "id": "view-in-github",
        "colab_type": "text"
      },
      "source": [
        "<a href=\"https://colab.research.google.com/github/nazirumar/NLP/blob/main/search_engine.ipynb\" target=\"_parent\"><img src=\"https://colab.research.google.com/assets/colab-badge.svg\" alt=\"Open In Colab\"/></a>"
      ]
    },
    {
      "cell_type": "markdown",
      "source": [
        "**Recipe 5-6. NLP in a Search Engine**\n",
        "\n",
        "In this recipe, we are going to discuss what it takes to build a search engine\n",
        "from an NLP standpoint. Implementation of the same is beyond the scope\n",
        "of this book.\n",
        "\n",
        "**Problem**\n",
        "\n",
        "You want to know the architecture and NLP pipeline to build a search engine.\n",
        "\n",
        "**Solution**\n",
        "\n",
        "Figure 5-1 shows the whole process. Each step is explained in the “How It\n",
        "Works” section."
      ],
      "metadata": {
        "id": "h7TdKUXNhbnb"
      }
    },
    {
      "cell_type": "markdown",
      "source": [
        "**How It Works**\n",
        "\n",
        "Let’s follow and understand the above architecture step by step in this\n",
        "section to build the search engine from an NLP standpoint.\n",
        "\n",
        "**Step 6-1 Preprocessing**\n",
        "\n",
        "Whenever the user enters the search query, it is passed on to the NLP\n",
        "preprocessing pipeline:\n",
        "\n",
        "1. Removal of noise and stop words\n",
        "2. Tokenization\n",
        "3. Stemming\n",
        "4. Lemmatization"
      ],
      "metadata": {
        "id": "7RB45J_xhs7F"
      }
    },
    {
      "cell_type": "markdown",
      "source": [
        "**Step 6-2 The entity extraction model**\n",
        "\n",
        "Output from the above pipeline is fed into the entity extraction model.\n",
        "We can build the customized entity recognition model by using any of the\n",
        "libraries like StanfordNER or NLTK.\n",
        "\n",
        "  Or you can build an entity recognition model from scratch using\n",
        "conditional random fields or Markov models.\n",
        "For example, suppose we are building a search engine for an\n",
        "e-commerce giant. Below are entities that we can train the model on:\n",
        "\n",
        "* Gender\n",
        "* Color\n",
        "* Brand\n",
        "* Product Category\n",
        "* Product Type\n",
        "* Price\n",
        "* Size"
      ],
      "metadata": {
        "id": "WqGzuHq7h3vW"
      }
    },
    {
      "cell_type": "markdown",
      "source": [
        "Also, we can build named entity disambiguation using deep\n",
        "learning frameworks like RNN and LSTM. This is very important for the\n",
        "entities extractor to understand the content in which the entities are\n",
        "used. For example, pink can be a color or a brand. NED helps in such\n",
        "disambiguation.\n",
        "\n",
        "NERD Model building steps:\n",
        "* Data cleaning and preprocessing\n",
        "* Training NER Model\n",
        "* Testing and Validation\n",
        "* Deployment\n",
        "\n",
        "**Ways to train/build NERD model:**\n",
        "\n",
        "* Named Entity Recognition and Disambiguation\n",
        "* Stanford NER with customization\n",
        "* Recurrent Neural Network (RNN) – LSTM (Long ShortTerm Memory) to use context for disambiguation\n",
        "* Joint Named Entity Recognition and Disambiguation"
      ],
      "metadata": {
        "id": "EvdqFw87i13O"
      }
    },
    {
      "cell_type": "markdown",
      "source": [
        "**Step 6-3 Query enhancement/expansion**\n",
        "\n",
        "It is very important to understand the possible synonyms of the entities to\n",
        "make sure search results do not miss out on potential relevance. Say, for\n",
        "example, men’s shoes can also be called as male shoes, men’s sports shoes,\n",
        "men’s formal shoes, men’s loafers, men’s sneakers.\n",
        "\n",
        "**Use locally-trained word embedding (using Word2Vec / GloVeModel ) to achieve this.**"
      ],
      "metadata": {
        "id": "nXtAIArcjIa7"
      }
    },
    {
      "cell_type": "markdown",
      "source": [
        "\n",
        "**Step 6-4 Use a search platform**\n",
        "\n",
        "Search platforms such as Solr or Elastic Search have major features that\n",
        "include full-text search hit highlighting, faceted search, real-time indexing,\n",
        "dynamic clustering, and database integration. This is not related to\n",
        "NLP; as an end-to-end application point of view, we have just given an\n",
        "introduction of what this is."
      ],
      "metadata": {
        "id": "uAYqm5GwjcgL"
      }
    },
    {
      "cell_type": "markdown",
      "source": [
        "**Step 6-5 Learning to rank**\n",
        "\n",
        "Once the search results are fetched from Solr or Elastic Search, they should\n",
        "be ranked based on the user preferences using the past behaviors."
      ],
      "metadata": {
        "id": "4t99Pf50jqmn"
      }
    },
    {
      "cell_type": "code",
      "execution_count": null,
      "metadata": {
        "id": "ltMcCuYRhTHA"
      },
      "outputs": [],
      "source": []
    }
  ]
}