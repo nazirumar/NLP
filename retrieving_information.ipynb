{
  "nbformat": 4,
  "nbformat_minor": 0,
  "metadata": {
    "colab": {
      "provenance": [],
      "authorship_tag": "ABX9TyNQtR7dp0N533Ud97CjpNxE",
      "include_colab_link": true
    },
    "kernelspec": {
      "name": "python3",
      "display_name": "Python 3"
    },
    "language_info": {
      "name": "python"
    }
  },
  "cells": [
    {
      "cell_type": "markdown",
      "metadata": {
        "id": "view-in-github",
        "colab_type": "text"
      },
      "source": [
        "<a href=\"https://colab.research.google.com/github/nazirumar/NLP/blob/main/retrieving_information.ipynb\" target=\"_parent\"><img src=\"https://colab.research.google.com/assets/colab-badge.svg\" alt=\"Open In Colab\"/></a>"
      ]
    },
    {
      "cell_type": "markdown",
      "source": [
        "**Recipe 6-1. Retrieving Information**\n",
        "\n",
        "Information retrieval is one of the highly used applications of NLP and it is\n",
        "quite tricky. The meaning of the words or sentences not only depends on\n",
        "the exact words used but also on the context and meaning. Two sentences\n",
        "may be of completely different words but can convey the same meaning.\n",
        "We should be able to capture that as well.\n",
        "\n",
        "An information retrieval (IR) system allows users to efficiently\n",
        "search documents and retrieve meaningful information based on a\n",
        "search text/query.\n",
        "\n",
        "![relevant_output_about_information.jpg](data:image/jpeg;base64,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)"
      ],
      "metadata": {
        "id": "zKJVkCij0D0T"
      }
    },
    {
      "cell_type": "markdown",
      "source": [
        "**Problem**\n",
        "\n",
        "Information retrieval using word embeddings.\n",
        "\n",
        "**Solution**\n",
        "\n",
        "There are multiple ways to do Information retrieval. But we will see how to\n",
        "do it using word embeddings, which is very effective since it takes context\n",
        "also into consideration. We discussed how word embeddings are built in\n",
        "Chapter 3. We will just use the pretrained word2vec in this case.\n",
        "Let’s take a simple example and see how to build a document retrieval\n",
        "using query input. Let’s say we have 4 documents in our database as\n",
        "below. (Just showcasing how it works. We will have too many documents\n",
        "in a real-world application.)"
      ],
      "metadata": {
        "id": "3ESn7S2L0heP"
      }
    },
    {
      "cell_type": "code",
      "execution_count": 1,
      "metadata": {
        "id": "LeuEoe37z79o"
      },
      "outputs": [],
      "source": [
        "Doc1 = [\"With the Union cabinet approving the amendments to the Motor Vehicles Act, 2016, those caught for drunken driving will have to have really deep pockets, as the fine payable in court has been enhanced to Rs 10,000 for first-time offenders.\" ]\n",
        "\n",
        "Doc2 = [\"Natural language processing (NLP) is an area of computer science and artificial intelligence concerned with the interactions between computers and human (natural) languages, in particular how to program computers to process and analyze large amounts of natural language data.\"]\n",
        "\n",
        "Doc3 = [\"He points out that public transport is very good in Mumbai and New Delhi, where there is a good network of suburban and metro rail systems.\"]\n",
        "\n",
        "Doc4 = [\"But the man behind the wickets at the other end was watching just as keenly. With an affirmative nod from Dhoni,India captain Rohit Sharma promptly asked for a review. Sure enough, the ball would have clipped the top of middle and leg.\"]"
      ]
    },
    {
      "cell_type": "markdown",
      "source": [
        "*Assume we have numerous documents like this. And you want to retrieve\n",
        "the most relevant once for the query “cricket.” Let’s see how to build it.*"
      ],
      "metadata": {
        "id": "SeXnvseW1H2p"
      }
    },
    {
      "cell_type": "code",
      "source": [
        "query = 'cricket'"
      ],
      "metadata": {
        "id": "ZV5C7ch_1GUi"
      },
      "execution_count": 2,
      "outputs": []
    },
    {
      "cell_type": "markdown",
      "source": [
        "**How It Works**\n",
        "\n",
        "*Step 1-1 Import the libraries*"
      ],
      "metadata": {
        "id": "sz0B6sLQ1rNe"
      }
    },
    {
      "cell_type": "code",
      "source": [
        "import gensim\n",
        "from gensim.models import word2vec\n",
        "import numpy as np\n",
        "import nltk\n",
        "import itertools\n",
        "from nltk.corpus import stopwords\n",
        "from nltk.tokenize import  sent_tokenize, word_tokenize\n",
        "import scipy\n",
        "from scipy import spatial\n",
        "from nltk.tokenize.toktok import ToktokTokenizer\n",
        "import re\n"
      ],
      "metadata": {
        "id": "U3XYHB3P1Qx8"
      },
      "execution_count": 3,
      "outputs": []
    },
    {
      "cell_type": "code",
      "source": [
        "tokenizer = ToktokTokenizer()\n",
        "stopword_list = stopwords.words('english')"
      ],
      "metadata": {
        "colab": {
          "base_uri": "https://localhost:8080/",
          "height": 1000
        },
        "id": "-tQIpl_h2xLR",
        "outputId": "c7ddd916-b4ef-4873-a493-5e74c6476e23"
      },
      "execution_count": 4,
      "outputs": [
        {
          "output_type": "error",
          "ename": "LookupError",
          "evalue": "ignored",
          "traceback": [
            "\u001b[0;31m---------------------------------------------------------------------------\u001b[0m",
            "\u001b[0;31mLookupError\u001b[0m                               Traceback (most recent call last)",
            "\u001b[0;32m/usr/local/lib/python3.10/dist-packages/nltk/corpus/util.py\u001b[0m in \u001b[0;36m__load\u001b[0;34m(self)\u001b[0m\n\u001b[1;32m     83\u001b[0m                 \u001b[0;32mtry\u001b[0m\u001b[0;34m:\u001b[0m\u001b[0;34m\u001b[0m\u001b[0;34m\u001b[0m\u001b[0m\n\u001b[0;32m---> 84\u001b[0;31m                     \u001b[0mroot\u001b[0m \u001b[0;34m=\u001b[0m \u001b[0mnltk\u001b[0m\u001b[0;34m.\u001b[0m\u001b[0mdata\u001b[0m\u001b[0;34m.\u001b[0m\u001b[0mfind\u001b[0m\u001b[0;34m(\u001b[0m\u001b[0;34mf\"{self.subdir}/{zip_name}\"\u001b[0m\u001b[0;34m)\u001b[0m\u001b[0;34m\u001b[0m\u001b[0;34m\u001b[0m\u001b[0m\n\u001b[0m\u001b[1;32m     85\u001b[0m                 \u001b[0;32mexcept\u001b[0m \u001b[0mLookupError\u001b[0m\u001b[0;34m:\u001b[0m\u001b[0;34m\u001b[0m\u001b[0;34m\u001b[0m\u001b[0m\n",
            "\u001b[0;32m/usr/local/lib/python3.10/dist-packages/nltk/data.py\u001b[0m in \u001b[0;36mfind\u001b[0;34m(resource_name, paths)\u001b[0m\n\u001b[1;32m    582\u001b[0m     \u001b[0mresource_not_found\u001b[0m \u001b[0;34m=\u001b[0m \u001b[0;34mf\"\\n{sep}\\n{msg}\\n{sep}\\n\"\u001b[0m\u001b[0;34m\u001b[0m\u001b[0;34m\u001b[0m\u001b[0m\n\u001b[0;32m--> 583\u001b[0;31m     \u001b[0;32mraise\u001b[0m \u001b[0mLookupError\u001b[0m\u001b[0;34m(\u001b[0m\u001b[0mresource_not_found\u001b[0m\u001b[0;34m)\u001b[0m\u001b[0;34m\u001b[0m\u001b[0;34m\u001b[0m\u001b[0m\n\u001b[0m\u001b[1;32m    584\u001b[0m \u001b[0;34m\u001b[0m\u001b[0m\n",
            "\u001b[0;31mLookupError\u001b[0m: \n**********************************************************************\n  Resource \u001b[93mstopwords\u001b[0m not found.\n  Please use the NLTK Downloader to obtain the resource:\n\n  \u001b[31m>>> import nltk\n  >>> nltk.download('stopwords')\n  \u001b[0m\n  For more information see: https://www.nltk.org/data.html\n\n  Attempted to load \u001b[93mcorpora/stopwords.zip/stopwords/\u001b[0m\n\n  Searched in:\n    - '/root/nltk_data'\n    - '/usr/nltk_data'\n    - '/usr/share/nltk_data'\n    - '/usr/lib/nltk_data'\n    - '/usr/share/nltk_data'\n    - '/usr/local/share/nltk_data'\n    - '/usr/lib/nltk_data'\n    - '/usr/local/lib/nltk_data'\n**********************************************************************\n",
            "\nDuring handling of the above exception, another exception occurred:\n",
            "\u001b[0;31mLookupError\u001b[0m                               Traceback (most recent call last)",
            "\u001b[0;32m<ipython-input-4-279f711015b6>\u001b[0m in \u001b[0;36m<cell line: 2>\u001b[0;34m()\u001b[0m\n\u001b[1;32m      1\u001b[0m \u001b[0mtokenizer\u001b[0m \u001b[0;34m=\u001b[0m \u001b[0mToktokTokenizer\u001b[0m\u001b[0;34m(\u001b[0m\u001b[0;34m)\u001b[0m\u001b[0;34m\u001b[0m\u001b[0;34m\u001b[0m\u001b[0m\n\u001b[0;32m----> 2\u001b[0;31m \u001b[0mstopword_list\u001b[0m \u001b[0;34m=\u001b[0m \u001b[0mstopwords\u001b[0m\u001b[0;34m.\u001b[0m\u001b[0mwords\u001b[0m\u001b[0;34m(\u001b[0m\u001b[0;34m'english'\u001b[0m\u001b[0;34m)\u001b[0m\u001b[0;34m\u001b[0m\u001b[0;34m\u001b[0m\u001b[0m\n\u001b[0m",
            "\u001b[0;32m/usr/local/lib/python3.10/dist-packages/nltk/corpus/util.py\u001b[0m in \u001b[0;36m__getattr__\u001b[0;34m(self, attr)\u001b[0m\n\u001b[1;32m    119\u001b[0m             \u001b[0;32mraise\u001b[0m \u001b[0mAttributeError\u001b[0m\u001b[0;34m(\u001b[0m\u001b[0;34m\"LazyCorpusLoader object has no attribute '__bases__'\"\u001b[0m\u001b[0;34m)\u001b[0m\u001b[0;34m\u001b[0m\u001b[0;34m\u001b[0m\u001b[0m\n\u001b[1;32m    120\u001b[0m \u001b[0;34m\u001b[0m\u001b[0m\n\u001b[0;32m--> 121\u001b[0;31m         \u001b[0mself\u001b[0m\u001b[0;34m.\u001b[0m\u001b[0m__load\u001b[0m\u001b[0;34m(\u001b[0m\u001b[0;34m)\u001b[0m\u001b[0;34m\u001b[0m\u001b[0;34m\u001b[0m\u001b[0m\n\u001b[0m\u001b[1;32m    122\u001b[0m         \u001b[0;31m# This looks circular, but its not, since __load() changes our\u001b[0m\u001b[0;34m\u001b[0m\u001b[0;34m\u001b[0m\u001b[0m\n\u001b[1;32m    123\u001b[0m         \u001b[0;31m# __class__ to something new:\u001b[0m\u001b[0;34m\u001b[0m\u001b[0;34m\u001b[0m\u001b[0m\n",
            "\u001b[0;32m/usr/local/lib/python3.10/dist-packages/nltk/corpus/util.py\u001b[0m in \u001b[0;36m__load\u001b[0;34m(self)\u001b[0m\n\u001b[1;32m     84\u001b[0m                     \u001b[0mroot\u001b[0m \u001b[0;34m=\u001b[0m \u001b[0mnltk\u001b[0m\u001b[0;34m.\u001b[0m\u001b[0mdata\u001b[0m\u001b[0;34m.\u001b[0m\u001b[0mfind\u001b[0m\u001b[0;34m(\u001b[0m\u001b[0;34mf\"{self.subdir}/{zip_name}\"\u001b[0m\u001b[0;34m)\u001b[0m\u001b[0;34m\u001b[0m\u001b[0;34m\u001b[0m\u001b[0m\n\u001b[1;32m     85\u001b[0m                 \u001b[0;32mexcept\u001b[0m \u001b[0mLookupError\u001b[0m\u001b[0;34m:\u001b[0m\u001b[0;34m\u001b[0m\u001b[0;34m\u001b[0m\u001b[0m\n\u001b[0;32m---> 86\u001b[0;31m                     \u001b[0;32mraise\u001b[0m \u001b[0me\u001b[0m\u001b[0;34m\u001b[0m\u001b[0;34m\u001b[0m\u001b[0m\n\u001b[0m\u001b[1;32m     87\u001b[0m \u001b[0;34m\u001b[0m\u001b[0m\n\u001b[1;32m     88\u001b[0m         \u001b[0;31m# Load the corpus.\u001b[0m\u001b[0;34m\u001b[0m\u001b[0;34m\u001b[0m\u001b[0m\n",
            "\u001b[0;32m/usr/local/lib/python3.10/dist-packages/nltk/corpus/util.py\u001b[0m in \u001b[0;36m__load\u001b[0;34m(self)\u001b[0m\n\u001b[1;32m     79\u001b[0m         \u001b[0;32melse\u001b[0m\u001b[0;34m:\u001b[0m\u001b[0;34m\u001b[0m\u001b[0;34m\u001b[0m\u001b[0m\n\u001b[1;32m     80\u001b[0m             \u001b[0;32mtry\u001b[0m\u001b[0;34m:\u001b[0m\u001b[0;34m\u001b[0m\u001b[0;34m\u001b[0m\u001b[0m\n\u001b[0;32m---> 81\u001b[0;31m                 \u001b[0mroot\u001b[0m \u001b[0;34m=\u001b[0m \u001b[0mnltk\u001b[0m\u001b[0;34m.\u001b[0m\u001b[0mdata\u001b[0m\u001b[0;34m.\u001b[0m\u001b[0mfind\u001b[0m\u001b[0;34m(\u001b[0m\u001b[0;34mf\"{self.subdir}/{self.__name}\"\u001b[0m\u001b[0;34m)\u001b[0m\u001b[0;34m\u001b[0m\u001b[0;34m\u001b[0m\u001b[0m\n\u001b[0m\u001b[1;32m     82\u001b[0m             \u001b[0;32mexcept\u001b[0m \u001b[0mLookupError\u001b[0m \u001b[0;32mas\u001b[0m \u001b[0me\u001b[0m\u001b[0;34m:\u001b[0m\u001b[0;34m\u001b[0m\u001b[0;34m\u001b[0m\u001b[0m\n\u001b[1;32m     83\u001b[0m                 \u001b[0;32mtry\u001b[0m\u001b[0;34m:\u001b[0m\u001b[0;34m\u001b[0m\u001b[0;34m\u001b[0m\u001b[0m\n",
            "\u001b[0;32m/usr/local/lib/python3.10/dist-packages/nltk/data.py\u001b[0m in \u001b[0;36mfind\u001b[0;34m(resource_name, paths)\u001b[0m\n\u001b[1;32m    581\u001b[0m     \u001b[0msep\u001b[0m \u001b[0;34m=\u001b[0m \u001b[0;34m\"*\"\u001b[0m \u001b[0;34m*\u001b[0m \u001b[0;36m70\u001b[0m\u001b[0;34m\u001b[0m\u001b[0;34m\u001b[0m\u001b[0m\n\u001b[1;32m    582\u001b[0m     \u001b[0mresource_not_found\u001b[0m \u001b[0;34m=\u001b[0m \u001b[0;34mf\"\\n{sep}\\n{msg}\\n{sep}\\n\"\u001b[0m\u001b[0;34m\u001b[0m\u001b[0;34m\u001b[0m\u001b[0m\n\u001b[0;32m--> 583\u001b[0;31m     \u001b[0;32mraise\u001b[0m \u001b[0mLookupError\u001b[0m\u001b[0;34m(\u001b[0m\u001b[0mresource_not_found\u001b[0m\u001b[0;34m)\u001b[0m\u001b[0;34m\u001b[0m\u001b[0;34m\u001b[0m\u001b[0m\n\u001b[0m\u001b[1;32m    584\u001b[0m \u001b[0;34m\u001b[0m\u001b[0m\n\u001b[1;32m    585\u001b[0m \u001b[0;34m\u001b[0m\u001b[0m\n",
            "\u001b[0;31mLookupError\u001b[0m: \n**********************************************************************\n  Resource \u001b[93mstopwords\u001b[0m not found.\n  Please use the NLTK Downloader to obtain the resource:\n\n  \u001b[31m>>> import nltk\n  >>> nltk.download('stopwords')\n  \u001b[0m\n  For more information see: https://www.nltk.org/data.html\n\n  Attempted to load \u001b[93mcorpora/stopwords\u001b[0m\n\n  Searched in:\n    - '/root/nltk_data'\n    - '/usr/nltk_data'\n    - '/usr/share/nltk_data'\n    - '/usr/lib/nltk_data'\n    - '/usr/share/nltk_data'\n    - '/usr/local/share/nltk_data'\n    - '/usr/lib/nltk_data'\n    - '/usr/local/lib/nltk_data'\n**********************************************************************\n"
          ]
        }
      ]
    },
    {
      "cell_type": "code",
      "source": [
        "import nltk\n",
        "nltk.download('stopwords')"
      ],
      "metadata": {
        "colab": {
          "base_uri": "https://localhost:8080/"
        },
        "id": "i0dLSk0k23Hx",
        "outputId": "66bef85e-3609-4e46-a592-2b6c31b96874"
      },
      "execution_count": 5,
      "outputs": [
        {
          "output_type": "stream",
          "name": "stderr",
          "text": [
            "[nltk_data] Downloading package stopwords to /root/nltk_data...\n",
            "[nltk_data]   Unzipping corpora/stopwords.zip.\n"
          ]
        },
        {
          "output_type": "execute_result",
          "data": {
            "text/plain": [
              "True"
            ]
          },
          "metadata": {},
          "execution_count": 5
        }
      ]
    },
    {
      "cell_type": "code",
      "source": [
        "tokenizer = ToktokTokenizer()\n",
        "stopword_list = stopwords.words('english')"
      ],
      "metadata": {
        "id": "NePwx35u29g1"
      },
      "execution_count": 6,
      "outputs": []
    },
    {
      "cell_type": "markdown",
      "source": [
        "**Step 1-2 Create/import documents**"
      ],
      "metadata": {
        "id": "l7GLKtn33EaU"
      }
    },
    {
      "cell_type": "code",
      "source": [],
      "metadata": {
        "id": "i84b79H10i1y"
      },
      "execution_count": null,
      "outputs": []
    },
    {
      "cell_type": "code",
      "source": [
        "fin = Doc1+Doc2+Doc3+Doc4"
      ],
      "metadata": {
        "id": "ubrLm7PI3GGM"
      },
      "execution_count": 7,
      "outputs": []
    },
    {
      "cell_type": "code",
      "source": [],
      "metadata": {
        "id": "sN5NW3Qu0iyc"
      },
      "execution_count": null,
      "outputs": []
    },
    {
      "cell_type": "markdown",
      "source": [
        "**Step 1-3 Download word2vec**\n",
        "\n",
        "As mentioned earlier, we are going to use the word embeddings to solve\n",
        "this problem. Download word2vec from the below link:\n",
        "[link](https://drive.google.com/file/d/0B7XkCwpI5KDYNlNUTTlSS21pQmM/edit)\n"
      ],
      "metadata": {
        "id": "-WLKNKdd4BkC"
      }
    }
  ]
}